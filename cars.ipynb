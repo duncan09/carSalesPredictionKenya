{
 "cells": [
  {
   "cell_type": "code",
   "execution_count": 1,
   "metadata": {},
   "outputs": [],
   "source": [
    "#Lets import the libraries we need\n",
    "import requests\n",
    "import pandas as pd\n",
    "import csv\n",
    "import numpy as np\n",
    "from bs4 import BeautifulSoup"
   ]
  },
  {
   "cell_type": "code",
   "execution_count": 6,
   "metadata": {},
   "outputs": [
    {
     "ename": "AttributeError",
     "evalue": "'NoneType' object has no attribute 'text'",
     "output_type": "error",
     "traceback": [
      "\u001b[1;31m---------------------------------------------------------------------------\u001b[0m",
      "\u001b[1;31mAttributeError\u001b[0m                            Traceback (most recent call last)",
      "\u001b[1;32mC:\\Users\\ADMINI~1\\AppData\\Local\\Temp\\1/ipykernel_1640/2406617403.py\u001b[0m in \u001b[0;36m<module>\u001b[1;34m\u001b[0m\n\u001b[0;32m     23\u001b[0m         \u001b[0mdutyPaid\u001b[0m\u001b[1;33m=\u001b[0m\u001b[1;33m[\u001b[0m\u001b[0ma\u001b[0m\u001b[1;33m.\u001b[0m\u001b[0mfind\u001b[0m\u001b[1;33m(\u001b[0m\u001b[1;34m\"div\"\u001b[0m\u001b[1;33m,\u001b[0m\u001b[1;33m{\u001b[0m\u001b[1;34m\"class\"\u001b[0m\u001b[1;33m:\u001b[0m\u001b[1;34m\"car-price-duty no-duty\"\u001b[0m\u001b[1;33m}\u001b[0m\u001b[1;33m)\u001b[0m \u001b[1;32mfor\u001b[0m \u001b[0ma\u001b[0m \u001b[1;32min\u001b[0m \u001b[0msoup\u001b[0m\u001b[1;33m.\u001b[0m\u001b[0mfind_all\u001b[0m\u001b[1;33m(\u001b[0m\u001b[1;34m\"div\"\u001b[0m\u001b[1;33m,\u001b[0m\u001b[0mclass_\u001b[0m\u001b[1;33m=\u001b[0m\u001b[1;34m\"car-info\"\u001b[0m\u001b[1;33m)\u001b[0m\u001b[1;33m]\u001b[0m\u001b[1;33m\u001b[0m\u001b[1;33m\u001b[0m\u001b[0m\n\u001b[0;32m     24\u001b[0m         \u001b[1;32mif\u001b[0m \u001b[1;32mnot\u001b[0m \u001b[1;32mNone\u001b[0m\u001b[1;33m:\u001b[0m\u001b[1;33m\u001b[0m\u001b[1;33m\u001b[0m\u001b[0m\n\u001b[1;32m---> 25\u001b[1;33m             \u001b[0mduty\u001b[0m\u001b[1;33m=\u001b[0m\u001b[1;33m[\u001b[0m\u001b[0mduty\u001b[0m\u001b[1;33m.\u001b[0m\u001b[0mtext\u001b[0m \u001b[1;32mfor\u001b[0m \u001b[0mduty\u001b[0m \u001b[1;32min\u001b[0m \u001b[0mdutyPaid\u001b[0m\u001b[1;33m]\u001b[0m\u001b[1;33m\u001b[0m\u001b[1;33m\u001b[0m\u001b[0m\n\u001b[0m\u001b[0;32m     26\u001b[0m         \u001b[1;32melif\u001b[0m \u001b[1;32mNone\u001b[0m\u001b[1;33m:\u001b[0m\u001b[1;33m\u001b[0m\u001b[1;33m\u001b[0m\u001b[0m\n\u001b[0;32m     27\u001b[0m             \u001b[0mduty\u001b[0m\u001b[1;33m=\u001b[0m\u001b[1;34m\"NA\"\u001b[0m\u001b[1;33m\u001b[0m\u001b[1;33m\u001b[0m\u001b[0m\n",
      "\u001b[1;32mC:\\Users\\ADMINI~1\\AppData\\Local\\Temp\\1/ipykernel_1640/2406617403.py\u001b[0m in \u001b[0;36m<listcomp>\u001b[1;34m(.0)\u001b[0m\n\u001b[0;32m     23\u001b[0m         \u001b[0mdutyPaid\u001b[0m\u001b[1;33m=\u001b[0m\u001b[1;33m[\u001b[0m\u001b[0ma\u001b[0m\u001b[1;33m.\u001b[0m\u001b[0mfind\u001b[0m\u001b[1;33m(\u001b[0m\u001b[1;34m\"div\"\u001b[0m\u001b[1;33m,\u001b[0m\u001b[1;33m{\u001b[0m\u001b[1;34m\"class\"\u001b[0m\u001b[1;33m:\u001b[0m\u001b[1;34m\"car-price-duty no-duty\"\u001b[0m\u001b[1;33m}\u001b[0m\u001b[1;33m)\u001b[0m \u001b[1;32mfor\u001b[0m \u001b[0ma\u001b[0m \u001b[1;32min\u001b[0m \u001b[0msoup\u001b[0m\u001b[1;33m.\u001b[0m\u001b[0mfind_all\u001b[0m\u001b[1;33m(\u001b[0m\u001b[1;34m\"div\"\u001b[0m\u001b[1;33m,\u001b[0m\u001b[0mclass_\u001b[0m\u001b[1;33m=\u001b[0m\u001b[1;34m\"car-info\"\u001b[0m\u001b[1;33m)\u001b[0m\u001b[1;33m]\u001b[0m\u001b[1;33m\u001b[0m\u001b[1;33m\u001b[0m\u001b[0m\n\u001b[0;32m     24\u001b[0m         \u001b[1;32mif\u001b[0m \u001b[1;32mnot\u001b[0m \u001b[1;32mNone\u001b[0m\u001b[1;33m:\u001b[0m\u001b[1;33m\u001b[0m\u001b[1;33m\u001b[0m\u001b[0m\n\u001b[1;32m---> 25\u001b[1;33m             \u001b[0mduty\u001b[0m\u001b[1;33m=\u001b[0m\u001b[1;33m[\u001b[0m\u001b[0mduty\u001b[0m\u001b[1;33m.\u001b[0m\u001b[0mtext\u001b[0m \u001b[1;32mfor\u001b[0m \u001b[0mduty\u001b[0m \u001b[1;32min\u001b[0m \u001b[0mdutyPaid\u001b[0m\u001b[1;33m]\u001b[0m\u001b[1;33m\u001b[0m\u001b[1;33m\u001b[0m\u001b[0m\n\u001b[0m\u001b[0;32m     26\u001b[0m         \u001b[1;32melif\u001b[0m \u001b[1;32mNone\u001b[0m\u001b[1;33m:\u001b[0m\u001b[1;33m\u001b[0m\u001b[1;33m\u001b[0m\u001b[0m\n\u001b[0;32m     27\u001b[0m             \u001b[0mduty\u001b[0m\u001b[1;33m=\u001b[0m\u001b[1;34m\"NA\"\u001b[0m\u001b[1;33m\u001b[0m\u001b[1;33m\u001b[0m\u001b[0m\n",
      "\u001b[1;31mAttributeError\u001b[0m: 'NoneType' object has no attribute 'text'"
     ]
    }
   ],
   "source": [
    "#Lets create a scraper for all the items\n",
    "\n",
    "headers=\"Title,Price,Features,Duty Status \\n\"\n",
    "\n",
    "with open(\"cars.csv\",\"w+\",newline='',encoding=\"utf-8\") as csv_file:\n",
    "    writer=csv.writer(csv_file)\n",
    "\n",
    "    for i in range(1,835):\n",
    "        URL=\"https://www.usedcars.co.ke/cars-for-sale?page=\"+str(i)\n",
    "        page=requests.get(URL).content\n",
    "        soup=BeautifulSoup(page,\"html.parser\")\n",
    "        # main=soup.find(\"div\",class_=\"col-lg-8 col-md-12\")\n",
    "        # section=soup.find(\"div\",class_=\"main-list\")\n",
    "        carTitle=[a.find(\"h2\",{\"class\":\"strong\"}) for a in soup.find_all(\"div\",class_=\"car-info\")]\n",
    "        if not None:\n",
    "            title=[title.text for title in carTitle]\n",
    "        countryFrom=[a.find_all(\"div\",{\"class\":\"car-spec-field\"}) for a in soup.find(\"div\",class_=\"car-info\")]\n",
    "        if not None:\n",
    "            features=[[item.text for item in listy] for listy in countryFrom]\n",
    "        carPrice=[a.find(\"div\",{\"class\":\"car-price\"}) for a in soup.find_all(\"div\",class_=\"car-info\")]\n",
    "        if not None:\n",
    "            price=[price.text for price in carPrice]\n",
    "        dutyPaid=[a.find(\"div\",{\"class\":\"car-price-duty no-duty\"}) for a in soup.find_all(\"div\",class_=\"car-info\")]\n",
    "        if not None:\n",
    "            duty=[duty.text for duty in dutyPaid]\n",
    "        elif None:\n",
    "            duty=\"NA\"\n",
    "        rows=zip(title,price,duty)\n",
    "        for row in rows:\n",
    "            writer.writerow(row)\n",
    "\n",
    "    csv_file.close()"
   ]
  },
  {
   "cell_type": "code",
   "execution_count": null,
   "metadata": {},
   "outputs": [],
   "source": [
    "with open(\"features.csv\",\"w+\",newline='') as csv_file:\n",
    "    writer=csv.writer(csv_file)\n",
    "    writer.writerow([g for g in headers])\n",
    "    for i in range(1,3):\n",
    "        URL=\"https://www.usedcars.co.ke/cars-for-sale?page=\"+str(i)\n",
    "        page=requests.get(URL).content\n",
    "        soup=BeautifulSoup(page,\"html.parser\")\n",
    "        all=soup.find(\"div\",class_=\"main-content\")\n",
    "\n",
    "        carTitle=[a.find(\"h2\",{\"class\":\"strong\"}) for a in soup.find_all(\"div\",class_=\"car-info\")]\n",
    "        countryFrom=[a.find_all(\"div\",{\"class\":\"car-spec-field\"}) for a in soup.find_all(\"div\",class_=\"car-info\")]\n",
    "        if not None:\n",
    "            feat=[[item.text for item in listy] for listy in countryFrom]\n",
    "            # if not None:\n",
    "            #     title=carTitle.text\n",
    "            # countryFrom=soup.find_all(\"div\",class_=\"car-info\").__getattribute__(\"div\",{\"class\":\"car-spec-field\"})\n",
    "            # if not None:\n",
    "            #     features=[item.text for item in countryFrom]\n",
    "            # carPrice=soup.find_all(\"div\",class_=\"car-info\").__getattribute__(\"div\",{\"class\":\"car-price\"})\n",
    "            # if not None:\n",
    "            #     price=carPrice.text\n",
    "            # dutyPaid=soup.find_all(\"div\",class_=\"car-info\").__getattribute__(\"div\",{\"class\":\"car-price-duty no-duty\"})\n",
    "            # if not None:\n",
    "            #     duty=dutyPaid.text\n",
    "    \n",
    "            writer.writerows(feat)\n"
   ]
  }
 ],
 "metadata": {
  "interpreter": {
   "hash": "b89b5cfaba6639976dc87ff2fec6d58faec662063367e2c229c520fe71072417"
  },
  "kernelspec": {
   "display_name": "Python 3.10.0 64-bit",
   "language": "python",
   "name": "python3"
  },
  "language_info": {
   "codemirror_mode": {
    "name": "ipython",
    "version": 3
   },
   "file_extension": ".py",
   "mimetype": "text/x-python",
   "name": "python",
   "nbconvert_exporter": "python",
   "pygments_lexer": "ipython3",
   "version": "3.10.0"
  },
  "orig_nbformat": 4
 },
 "nbformat": 4,
 "nbformat_minor": 2
}
